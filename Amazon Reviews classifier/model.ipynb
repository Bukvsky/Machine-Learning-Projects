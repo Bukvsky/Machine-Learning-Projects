{
 "cells": [
  {
   "metadata": {
    "collapsed": true,
    "ExecuteTime": {
     "end_time": "2025-09-06T10:06:02.401696Z",
     "start_time": "2025-09-06T10:05:57.703133Z"
    }
   },
   "cell_type": "code",
   "source": [
    "import kagglehub\n",
    "from sklearn.model_selection import train_test_split\n",
    "\n",
    "# List all files in the dataset\n",
    "dataset_path = kagglehub.dataset_download(\"kritanjalijain/amazon-reviews\")\n",
    "print(dataset_path)  # See where it’s stored locally\n",
    "\n",
    "import os\n",
    "for root, dirs, files in os.walk(dataset_path):\n",
    "    for f in files:\n",
    "        print(f)\n"
   ],
   "id": "initial_id",
   "outputs": [
    {
     "name": "stdout",
     "output_type": "stream",
     "text": [
      "Warning: Looks like you're using an outdated `kagglehub` version (installed: 0.3.12), please consider upgrading to the latest version (0.3.13).\n",
      "C:\\Users\\ibuko\\.cache\\kagglehub\\datasets\\kritanjalijain\\amazon-reviews\\versions\\2\n",
      "amazon_review_polarity_csv.tgz\n",
      "test.csv\n",
      "train.csv\n"
     ]
    }
   ],
   "execution_count": 1
  },
  {
   "metadata": {
    "ExecuteTime": {
     "end_time": "2025-09-06T10:06:18.632615Z",
     "start_time": "2025-09-06T10:06:02.451848Z"
    }
   },
   "cell_type": "code",
   "source": [
    "import tensorflow as tf\n",
    "import pandas as pd\n",
    "import matplotlib.pyplot as plt\n",
    "import numpy as np\n",
    "import matplotlib\n",
    "import seaborn as sns\n",
    "import keras_nlp"
   ],
   "id": "723f4811f5b5df70",
   "outputs": [],
   "execution_count": 2
  },
  {
   "metadata": {
    "ExecuteTime": {
     "end_time": "2025-09-06T10:06:19.915508Z",
     "start_time": "2025-09-06T10:06:19.894735Z"
    }
   },
   "cell_type": "code",
   "source": "print('\\\\'.join(dataset_path.split('\\\\')[:-1])+'\\\\train.csv')",
   "id": "cf9811702dc14c08",
   "outputs": [
    {
     "name": "stdout",
     "output_type": "stream",
     "text": [
      "C:\\Users\\ibuko\\.cache\\kagglehub\\datasets\\kritanjalijain\\amazon-reviews\\versions\\train.csv\n"
     ]
    }
   ],
   "execution_count": 3
  },
  {
   "metadata": {
    "ExecuteTime": {
     "end_time": "2025-09-06T10:06:57.601215Z",
     "start_time": "2025-09-06T10:06:19.950327Z"
    }
   },
   "cell_type": "code",
   "source": "df = pd.read_csv('\\\\'.join(dataset_path.split('\\\\')[:-1])+'\\\\2\\\\train.csv', header=None)",
   "id": "efdafba9b0ca537c",
   "outputs": [],
   "execution_count": 4
  },
  {
   "metadata": {
    "ExecuteTime": {
     "end_time": "2025-09-06T10:06:57.655691Z",
     "start_time": "2025-09-06T10:06:57.641955Z"
    }
   },
   "cell_type": "code",
   "source": "df.columns",
   "id": "59907f7489173282",
   "outputs": [
    {
     "data": {
      "text/plain": [
       "Index([0, 1, 2], dtype='int64')"
      ]
     },
     "execution_count": 5,
     "metadata": {},
     "output_type": "execute_result"
    }
   ],
   "execution_count": 5
  },
  {
   "metadata": {
    "ExecuteTime": {
     "end_time": "2025-09-06T10:06:57.734469Z",
     "start_time": "2025-09-06T10:06:57.705900Z"
    }
   },
   "cell_type": "code",
   "source": "df.head()",
   "id": "e9cf1a6830fb4f42",
   "outputs": [
    {
     "data": {
      "text/plain": [
       "   0                                                  1  \\\n",
       "0  2                     Stuning even for the non-gamer   \n",
       "1  2              The best soundtrack ever to anything.   \n",
       "2  2                                           Amazing!   \n",
       "3  2                               Excellent Soundtrack   \n",
       "4  2  Remember, Pull Your Jaw Off The Floor After He...   \n",
       "\n",
       "                                                   2  \n",
       "0  This sound track was beautiful! It paints the ...  \n",
       "1  I'm reading a lot of reviews saying that this ...  \n",
       "2  This soundtrack is my favorite music of all ti...  \n",
       "3  I truly like this soundtrack and I enjoy video...  \n",
       "4  If you've played the game, you know how divine...  "
      ],
      "text/html": [
       "<div>\n",
       "<style scoped>\n",
       "    .dataframe tbody tr th:only-of-type {\n",
       "        vertical-align: middle;\n",
       "    }\n",
       "\n",
       "    .dataframe tbody tr th {\n",
       "        vertical-align: top;\n",
       "    }\n",
       "\n",
       "    .dataframe thead th {\n",
       "        text-align: right;\n",
       "    }\n",
       "</style>\n",
       "<table border=\"1\" class=\"dataframe\">\n",
       "  <thead>\n",
       "    <tr style=\"text-align: right;\">\n",
       "      <th></th>\n",
       "      <th>0</th>\n",
       "      <th>1</th>\n",
       "      <th>2</th>\n",
       "    </tr>\n",
       "  </thead>\n",
       "  <tbody>\n",
       "    <tr>\n",
       "      <th>0</th>\n",
       "      <td>2</td>\n",
       "      <td>Stuning even for the non-gamer</td>\n",
       "      <td>This sound track was beautiful! It paints the ...</td>\n",
       "    </tr>\n",
       "    <tr>\n",
       "      <th>1</th>\n",
       "      <td>2</td>\n",
       "      <td>The best soundtrack ever to anything.</td>\n",
       "      <td>I'm reading a lot of reviews saying that this ...</td>\n",
       "    </tr>\n",
       "    <tr>\n",
       "      <th>2</th>\n",
       "      <td>2</td>\n",
       "      <td>Amazing!</td>\n",
       "      <td>This soundtrack is my favorite music of all ti...</td>\n",
       "    </tr>\n",
       "    <tr>\n",
       "      <th>3</th>\n",
       "      <td>2</td>\n",
       "      <td>Excellent Soundtrack</td>\n",
       "      <td>I truly like this soundtrack and I enjoy video...</td>\n",
       "    </tr>\n",
       "    <tr>\n",
       "      <th>4</th>\n",
       "      <td>2</td>\n",
       "      <td>Remember, Pull Your Jaw Off The Floor After He...</td>\n",
       "      <td>If you've played the game, you know how divine...</td>\n",
       "    </tr>\n",
       "  </tbody>\n",
       "</table>\n",
       "</div>"
      ]
     },
     "execution_count": 6,
     "metadata": {},
     "output_type": "execute_result"
    }
   ],
   "execution_count": 6
  },
  {
   "metadata": {
    "ExecuteTime": {
     "end_time": "2025-09-06T10:07:01.795688Z",
     "start_time": "2025-09-06T10:06:57.791433Z"
    }
   },
   "cell_type": "code",
   "source": "val_df = pd.read_csv('\\\\'.join(dataset_path.split('\\\\')[:-1])+'\\\\2\\\\test.csv', header=None)\n",
   "id": "c70ffe5a67d6c6f9",
   "outputs": [],
   "execution_count": 7
  },
  {
   "metadata": {
    "ExecuteTime": {
     "end_time": "2025-09-06T10:07:01.938270Z",
     "start_time": "2025-09-06T10:07:01.889525Z"
    }
   },
   "cell_type": "code",
   "source": [
    "df.rename(columns={0:'polarity', 1:'title',2:'text'}, inplace=True)\n",
    "val_df.rename(columns={0:'polarity', 1:'title',2:'text'}, inplace=True)\n"
   ],
   "id": "f11707166e03cf91",
   "outputs": [],
   "execution_count": 8
  },
  {
   "metadata": {
    "ExecuteTime": {
     "end_time": "2025-09-06T10:07:05.029392Z",
     "start_time": "2025-09-06T10:07:02.103885Z"
    }
   },
   "cell_type": "code",
   "source": "df.info(memory_usage='deep')",
   "id": "3874611df2859a5a",
   "outputs": [
    {
     "name": "stdout",
     "output_type": "stream",
     "text": [
      "<class 'pandas.core.frame.DataFrame'>\n",
      "RangeIndex: 3600000 entries, 0 to 3599999\n",
      "Data columns (total 3 columns):\n",
      " #   Column    Dtype \n",
      "---  ------    ----- \n",
      " 0   polarity  int64 \n",
      " 1   title     object\n",
      " 2   text      object\n",
      "dtypes: int64(1), object(2)\n",
      "memory usage: 1.8 GB\n"
     ]
    }
   ],
   "execution_count": 9
  },
  {
   "metadata": {
    "ExecuteTime": {
     "end_time": "2025-09-06T10:07:05.959367Z",
     "start_time": "2025-09-06T10:07:05.067073Z"
    }
   },
   "cell_type": "code",
   "source": "len(df['text'].max())",
   "id": "6037c1238338cc9f",
   "outputs": [
    {
     "data": {
      "text/plain": [
       "111"
      ]
     },
     "execution_count": 10,
     "metadata": {},
     "output_type": "execute_result"
    }
   ],
   "execution_count": 10
  },
  {
   "metadata": {
    "ExecuteTime": {
     "end_time": "2025-09-06T10:07:11.643181Z",
     "start_time": "2025-09-06T10:07:06.010356Z"
    }
   },
   "cell_type": "code",
   "source": [
    "df['combined_text'] = df['title'] + ' ' + df['text']\n",
    "val_df['combined_text'] = val_df['title'] + ' ' + val_df['text']"
   ],
   "id": "e468e44b88eac82f",
   "outputs": [],
   "execution_count": 11
  },
  {
   "metadata": {
    "ExecuteTime": {
     "end_time": "2025-09-06T10:07:11.721790Z",
     "start_time": "2025-09-06T10:07:11.682494Z"
    }
   },
   "cell_type": "code",
   "source": [
    "from tensorflow.keras.preprocessing.text import Tokenizer\n",
    "from tensorflow.keras.preprocessing.sequence import pad_sequences\n",
    "from tensorflow.keras.utils import to_categorical"
   ],
   "id": "501b6662bf5f4cd8",
   "outputs": [],
   "execution_count": 12
  },
  {
   "metadata": {
    "ExecuteTime": {
     "end_time": "2025-09-06T10:07:11.765769Z",
     "start_time": "2025-09-06T10:07:11.748040Z"
    }
   },
   "cell_type": "code",
   "source": "val_df.iloc[0]",
   "id": "cdcaa9a03a2b525",
   "outputs": [
    {
     "data": {
      "text/plain": [
       "polarity                                                         2\n",
       "title                                                     Great CD\n",
       "text             My lovely Pat has one of the GREAT voices of h...\n",
       "combined_text    Great CD My lovely Pat has one of the GREAT vo...\n",
       "Name: 0, dtype: object"
      ]
     },
     "execution_count": 13,
     "metadata": {},
     "output_type": "execute_result"
    }
   ],
   "execution_count": 13
  },
  {
   "metadata": {
    "ExecuteTime": {
     "end_time": "2025-09-06T10:07:11.809220Z",
     "start_time": "2025-09-06T10:07:11.802101Z"
    }
   },
   "cell_type": "code",
   "source": [
    "import re\n",
    "import string\n",
    "\n",
    "def clean_text(text):\n",
    "    if pd.isna(text):\n",
    "        return \"\"\n",
    "\n",
    "    text = str(text)\n",
    "\n",
    "    text = text.replace('\"\"','\"')\n",
    "    text = re.sub(r'\\s+', ' ',text)\n",
    "    text = re.sub(r'[^\\w\\s.,!?\\'\"-]', '', text)\n",
    "    text = text.lower().strip()\n",
    "    return text"
   ],
   "id": "6e2f36fe8468046c",
   "outputs": [],
   "execution_count": 14
  },
  {
   "metadata": {
    "ExecuteTime": {
     "end_time": "2025-09-06T10:11:41.773181Z",
     "start_time": "2025-09-06T10:07:11.903421Z"
    }
   },
   "cell_type": "code",
   "source": [
    "df['combined_text'] = df['combined_text'].apply(clean_text)\n",
    "val_df['combined_text'] = val_df['combined_text'].apply(clean_text)"
   ],
   "id": "59ac9d787bca1a67",
   "outputs": [],
   "execution_count": 15
  },
  {
   "metadata": {
    "ExecuteTime": {
     "end_time": "2025-09-06T10:13:06.583119Z",
     "start_time": "2025-09-06T10:11:41.918953Z"
    }
   },
   "cell_type": "code",
   "source": [
    "df['word_count'] = df['combined_text'].str.split().str.len()\n",
    "val_df['word_count'] = val_df['combined_text'].str.split().str.len()\n",
    "\n",
    "print(f'''Numbers of words''')\n",
    "print(f'''Mean: {df['word_count'].mean()}''')\n",
    "print(f'''Median: {df['word_count'].median()}''')\n",
    "print(f'''Min: {df['word_count'].min()}''')\n",
    "print(f'''Max: {df['word_count'].max()}''')\n",
    "print(f'''75 percentile: {df['word_count'].quantile(q=.75)}''')\n",
    "print(f'''95 percentile: {df['word_count'].quantile(q=.95)}''')"
   ],
   "id": "849772130573b73a",
   "outputs": [
    {
     "name": "stdout",
     "output_type": "stream",
     "text": [
      "Numbers of words\n",
      "Mean: 78.4037025\n",
      "Median: 70.0\n",
      "Min: 0\n",
      "Max: 257\n",
      "75 percentile: 108.0\n",
      "95 percentile: 161.0\n"
     ]
    }
   ],
   "execution_count": 16
  },
  {
   "metadata": {
    "ExecuteTime": {
     "end_time": "2025-09-06T10:13:13.140042Z",
     "start_time": "2025-09-06T10:13:06.693866Z"
    }
   },
   "cell_type": "code",
   "source": [
    "plt.figure(figsize = (15,5))\n",
    "\n",
    "plt.subplot(1,3,1)\n",
    "df['word_count'].hist(bins=50, alpha=0.7)\n",
    "plt.title('Word distribution')\n",
    "plt.xlabel('Number of words')\n",
    "plt.ylabel('Number of reviews')\n",
    "\n",
    "plt.subplot(1,3,2)\n",
    "df['word_count'][df['word_count']<200].hist(bins=30,alpha=0.7)\n",
    "plt.title('Word distribution with less than 200 words')\n",
    "plt.xlabel('Number of words')\n",
    "plt.ylabel('Number of reviews')\n",
    "\n",
    "plt.subplot(1,3,3)\n",
    "df.boxplot(column='word_count',by='polarity',ax=plt.gca())\n",
    "plt.title('Length of text vs polarity')\n",
    "plt.xlabel('Polarity')\n",
    "plt.ylabel('Number of reviews')\n",
    "\n",
    "plt.tight_layout()\n",
    "plt.show()\n",
    "recommended_max_length = int(df['word_count'].quantile(0.95))\n",
    "print(recommended_max_length)"
   ],
   "id": "cb82bd4aca958f87",
   "outputs": [
    {
     "data": {
      "text/plain": [
       "<Figure size 1500x500 with 3 Axes>"
      ],
      "image/png": "[encoded data removed]"
     },
     "metadata": {},
     "output_type": "display_data"
    },
    {
     "name": "stdout",
     "output_type": "stream",
     "text": [
      "161\n"
     ]
    }
   ],
   "execution_count": 17
  },
  {
   "metadata": {
    "ExecuteTime": {
     "end_time": "2025-09-06T10:13:13.180437Z",
     "start_time": "2025-09-06T10:13:13.171411Z"
    }
   },
   "cell_type": "code",
   "source": "df.columns",
   "id": "17ac16afe75c0369",
   "outputs": [
    {
     "data": {
      "text/plain": [
       "Index(['polarity', 'title', 'text', 'combined_text', 'word_count'], dtype='object')"
      ]
     },
     "execution_count": 18,
     "metadata": {},
     "output_type": "execute_result"
    }
   ],
   "execution_count": 18
  },
  {
   "metadata": {
    "ExecuteTime": {
     "end_time": "2025-09-06T10:13:16.196313Z",
     "start_time": "2025-09-06T10:13:13.228821Z"
    }
   },
   "cell_type": "code",
   "source": [
    "# Data pipeline and padding parameters\n",
    "SHUFFLE_BUFFER_SIZE = 20000\n",
    "MAX_LENGTH = recommended_max_length\n",
    "\n",
    "PADDING_TYPE = 'pre'\n",
    "TRUNC_TYPE = 'post'\n",
    "VOCAB_SIZE = 20000\n",
    "SEQ_LEN = 128\n",
    "OOV_TOKEN = '<OOV>'\n",
    "\n",
    "X_train,X_val, y_train,y_val = train_test_split(\n",
    "    df['combined_text'],\n",
    "    df['polarity'],\n",
    "    test_size=0.2,\n",
    "    random_state=42,\n",
    "    stratify=df['polarity']\n",
    "\n",
    ")\n",
    "X_test = val_df['combined_text']\n",
    "y_test = val_df['polarity']\n",
    "\n",
    "print(f\"Training: {len(X_train)} ({len(X_train)/len(df)*100:.1f}%)\")\n",
    "print(f\"Validation: {len(X_val)} ({len(X_val)/len(df)*100:.1f}%)\")\n",
    "print(f\"Test: {len(X_test)}\")\n",
    "\n",
    "\n",
    "print(f\"\\nClass distribution- Train: {np.bincount(y_train)}\")\n",
    "print(f\"Class distribution - Val: {np.bincount(y_val)}\")\n",
    "print(f\"Class distribution - Test: {np.bincount(y_test)}\")"
   ],
   "id": "c1dfec61adf781e3",
   "outputs": [
    {
     "name": "stdout",
     "output_type": "stream",
     "text": [
      "Training: 2880000 (80.0%)\n",
      "Validation: 720000 (20.0%)\n",
      "Test: 400000\n",
      "\n",
      "Class distribution- Train: [      0 1440000 1440000]\n",
      "Class distribution - Val: [     0 360000 360000]\n",
      "Class distribution - Test: [     0 200000 200000]\n"
     ]
    }
   ],
   "execution_count": 19
  },
  {
   "metadata": {
    "ExecuteTime": {
     "end_time": "2025-09-06T10:13:16.277833Z",
     "start_time": "2025-09-06T10:13:16.244242Z"
    }
   },
   "cell_type": "code",
   "source": "df.iloc[0]",
   "id": "48edf1d838a5346f",
   "outputs": [
    {
     "data": {
      "text/plain": [
       "polarity                                                         2\n",
       "title                               Stuning even for the non-gamer\n",
       "text             This sound track was beautiful! It paints the ...\n",
       "combined_text    stuning even for the non-gamer this sound trac...\n",
       "word_count                                                      80\n",
       "Name: 0, dtype: object"
      ]
     },
     "execution_count": 20,
     "metadata": {},
     "output_type": "execute_result"
    }
   ],
   "execution_count": 20
  },
  {
   "metadata": {
    "ExecuteTime": {
     "end_time": "2025-09-06T10:13:16.465656Z",
     "start_time": "2025-09-06T10:13:16.433514Z"
    }
   },
   "cell_type": "code",
   "source": [
    "y_train_binary = y_train-1\n",
    "y_val_binary = y_val -1\n",
    "y_test_binary = y_test-1"
   ],
   "id": "68ec057e293f70a8",
   "outputs": [],
   "execution_count": 21
  },
  {
   "metadata": {},
   "cell_type": "markdown",
   "source": "",
   "id": "e9f093fb11edc7a9"
  },
  {
   "metadata": {
    "ExecuteTime": {
     "end_time": "2025-09-06T10:21:47.832986Z",
     "start_time": "2025-09-06T10:13:16.662006Z"
    }
   },
   "cell_type": "code",
   "source": [
    "tokenizer = Tokenizer(\n",
    "    num_words=VOCAB_SIZE,\n",
    "    oov_token=OOV_TOKEN,\n",
    "    filters = '!\"#$%&()*+,-./:;<=>?@[\\\\]^_`{|}~\\t\\n'\n",
    ")\n",
    "all_texts = pd.concat([X_train, X_val, X_test])\n",
    "print(f'''Training on {len(all_texts)} reviews''')\n",
    "tokenizer.fit_on_texts(all_texts)\n",
    "\n",
    "print(f'''Size of vocabulary: {len(tokenizer.word_index)}''')\n",
    "print(f'''Used size of vocabulary: {min(len(tokenizer.word_index),VOCAB_SIZE)}''')\n",
    "\n",
    "print(f''' Top 50 the most common words ''')\n",
    "for word,index in list(tokenizer.word_index.items())[:50]:\n",
    "    print(f'''{word} : {index}''')\n",
    "\n",
    "\n",
    "sample_text = X_train.iloc[0]\n",
    "sample_token = tokenizer.texts_to_sequences([sample_text])[0]\n",
    "\n",
    "print(f'''Sample of tokenization''')\n",
    "print(f'''Text: {sample_text[:100]}''')\n",
    "print(f'''Token: {sample_token[:20]}''')\n",
    "print(f'''Number of tokens: {len(sample_token)}''')\n"
   ],
   "id": "917190788d54cc88",
   "outputs": [
    {
     "name": "stdout",
     "output_type": "stream",
     "text": [
      "Training on 4000000 reviews\n",
      "Size of vocabulary: 1408060\n",
      "Used size of vocabulary: 20000\n",
      " Top 50 the most common words \n",
      "<OOV> : 1\n",
      "the : 2\n",
      "and : 3\n",
      "i : 4\n",
      "a : 5\n",
      "to : 6\n",
      "it : 7\n",
      "of : 8\n",
      "this : 9\n",
      "is : 10\n",
      "in : 11\n",
      "for : 12\n",
      "that : 13\n",
      "was : 14\n",
      "not : 15\n",
      "you : 16\n",
      "but : 17\n",
      "with : 18\n",
      "on : 19\n",
      "book : 20\n",
      "have : 21\n",
      "my : 22\n",
      "as : 23\n",
      "are : 24\n",
      "one : 25\n",
      "be : 26\n",
      "so : 27\n",
      "all : 28\n",
      "if : 29\n",
      "great : 30\n",
      "very : 31\n",
      "good : 32\n",
      "like : 33\n",
      "they : 34\n",
      "at : 35\n",
      "just : 36\n",
      "from : 37\n",
      "or : 38\n",
      "would : 39\n",
      "out : 40\n",
      "about : 41\n",
      "an : 42\n",
      "me : 43\n",
      "has : 44\n",
      "what : 45\n",
      "more : 46\n",
      "had : 47\n",
      "will : 48\n",
      "read : 49\n",
      "when : 50\n",
      "Sample of tokenization\n",
      "Text: finally- a good gold! i have been looking for a great gold spraypaint and have found that it's very \n",
      "Token: [433, 5, 32, 1723, 4, 21, 88, 188, 12, 5, 30, 1723, 1, 3, 21, 150, 13, 51, 31, 460]\n",
      "Number of tokens: 50\n"
     ]
    }
   ],
   "execution_count": 22
  },
  {
   "metadata": {
    "ExecuteTime": {
     "end_time": "2025-09-06T10:21:47.962541Z",
     "start_time": "2025-09-06T10:21:47.957067Z"
    }
   },
   "cell_type": "code",
   "source": "",
   "id": "8023a39b2772853c",
   "outputs": [],
   "execution_count": null
  }
 ],
 "metadata": {
  "kernelspec": {
   "display_name": "Python 3",
   "language": "python",
   "name": "python3"
  },
  "language_info": {
   "codemirror_mode": {
    "name": "ipython",
    "version": 2
   },
   "file_extension": ".py",
   "mimetype": "text/x-python",
   "name": "python",
   "nbconvert_exporter": "python",
   "pygments_lexer": "ipython2",
   "version": "2.7.6"
  }
 },
 "nbformat": 4,
 "nbformat_minor": 5
}
